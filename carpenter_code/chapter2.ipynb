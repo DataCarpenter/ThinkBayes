{
 "metadata": {
  "name": "",
  "signature": "sha256:c094ae8a7ab08ea82ee926307fe81f8a8e3e30c4727e17f82f907a636ecb05fb"
 },
 "nbformat": 3,
 "nbformat_minor": 0,
 "worksheets": [
  {
   "cells": [
    {
     "cell_type": "code",
     "collapsed": false,
     "input": [
      "from __future__ import division\n",
      "import pandas as pd\n"
     ],
     "language": "python",
     "metadata": {},
     "outputs": [],
     "prompt_number": 1
    },
    {
     "cell_type": "code",
     "collapsed": false,
     "input": [
      "import sys\n",
      "sys.path.insert(0,'../code')"
     ],
     "language": "python",
     "metadata": {},
     "outputs": [],
     "prompt_number": 2
    },
    {
     "cell_type": "heading",
     "level": 2,
     "metadata": {},
     "source": [
      "The Pmf object"
     ]
    },
    {
     "cell_type": "code",
     "collapsed": false,
     "input": [
      "from thinkbayes import Pmf "
     ],
     "language": "python",
     "metadata": {},
     "outputs": [],
     "prompt_number": 3
    },
    {
     "cell_type": "code",
     "collapsed": false,
     "input": [
      "pmf=Pmf()\n",
      "for x in range(1,7):\n",
      "    pmf.Set(x, 1/6) \n",
      "pmf.Items()"
     ],
     "language": "python",
     "metadata": {},
     "outputs": [
      {
       "metadata": {},
       "output_type": "pyout",
       "prompt_number": 4,
       "text": [
        "[(1, 0.16666666666666666),\n",
        " (2, 0.16666666666666666),\n",
        " (3, 0.16666666666666666),\n",
        " (4, 0.16666666666666666),\n",
        " (5, 0.16666666666666666),\n",
        " (6, 0.16666666666666666)]"
       ]
      }
     ],
     "prompt_number": 4
    },
    {
     "cell_type": "code",
     "collapsed": false,
     "input": [
      "pmf_word= Pmf()\n",
      "for word in \"hello word the word is complex complex it is\".split(' '):\n",
      "    pmf_word.Incr(word, 1)\n",
      "print pmf_word.Items()\n",
      "print pmf_word.Prob('word')"
     ],
     "language": "python",
     "metadata": {},
     "outputs": [
      {
       "output_type": "stream",
       "stream": "stdout",
       "text": [
        "[('word', 2), ('is', 2), ('it', 1), ('complex', 2), ('the', 1), ('hello', 1)]\n",
        "2\n"
       ]
      }
     ],
     "prompt_number": 5
    },
    {
     "cell_type": "code",
     "collapsed": false,
     "input": [
      "pmf_word.Normalize()\n",
      "pmf_word.Items()"
     ],
     "language": "python",
     "metadata": {},
     "outputs": [
      {
       "metadata": {},
       "output_type": "pyout",
       "prompt_number": 6,
       "text": [
        "[('word', 0.2222222222222222),\n",
        " ('is', 0.2222222222222222),\n",
        " ('it', 0.1111111111111111),\n",
        " ('complex', 0.2222222222222222),\n",
        " ('the', 0.1111111111111111),\n",
        " ('hello', 0.1111111111111111)]"
       ]
      }
     ],
     "prompt_number": 6
    },
    {
     "cell_type": "code",
     "collapsed": false,
     "input": [
      "pmf_word.Prob('word')"
     ],
     "language": "python",
     "metadata": {},
     "outputs": [
      {
       "metadata": {},
       "output_type": "pyout",
       "prompt_number": 7,
       "text": [
        "0.2222222222222222"
       ]
      }
     ],
     "prompt_number": 7
    },
    {
     "cell_type": "heading",
     "level": 2,
     "metadata": {},
     "source": [
      " 2.2 The cookie problem"
     ]
    },
    {
     "cell_type": "code",
     "collapsed": false,
     "input": [
      "pmf_cookie=Pmf()\n",
      "pmf_cookie.Set('Bowl_1' ,0.5)\n",
      "pmf_cookie.Set('Bowl_2' ,0.5)\n",
      "likelihood_B1 = 0.75\n",
      "likelihood_B2 = 0.5\n",
      "\n",
      "pmf_cookie.Mult('Bowl_1', likelihood_B1)\n",
      "pmf_cookie.Mult('Bowl_2', likelihood_B2)\n"
     ],
     "language": "python",
     "metadata": {},
     "outputs": [],
     "prompt_number": 8
    },
    {
     "cell_type": "code",
     "collapsed": false,
     "input": [
      "pmf_cookie.Normalize()\n",
      "print pmf_cookie.Prob('Bowl_1')"
     ],
     "language": "python",
     "metadata": {},
     "outputs": [
      {
       "output_type": "stream",
       "stream": "stdout",
       "text": [
        "0.6\n"
       ]
      }
     ],
     "prompt_number": 9
    },
    {
     "cell_type": "heading",
     "level": 2,
     "metadata": {},
     "source": [
      "2.3 general cookie class"
     ]
    },
    {
     "cell_type": "code",
     "collapsed": false,
     "input": [
      "class Cookie(Pmf):    \n",
      "    def __init__(self, hypo_names, bowl_mixes):\n",
      "        Pmf.__init__(self)\n",
      "        self.mixes=bowl_mixes\n",
      "        \n",
      "        for hypo in hypo_names:\n",
      "            self.Set(hypo, 1)\n",
      "        self.Normalize()\n",
      "        \n",
      "    def update_by_likelihood(self,data):\n",
      "        for hypo in self.Values():\n",
      "            like=self.likelihood(data, hypo)\n",
      "            self.Mult(hypo, like)\n",
      "        self.Normalize()\n",
      "    def likelihood (self, data, hypo):\n",
      "        \n",
      "        mix=self.mixes[hypo]\n",
      "        like=mix[data]\n",
      "        return like"
     ],
     "language": "python",
     "metadata": {},
     "outputs": [],
     "prompt_number": 46
    },
    {
     "cell_type": "code",
     "collapsed": false,
     "input": [
      "hypo_names_list=['Bowl_1','Bowl_2']\n",
      "bowl_mixes={'Bowl_1': dict(vanilla=0.75, chocolate=0.25),\n",
      "            'Bowl_2': dict(vanilla=0.5, chocolate=0.5)\n",
      "            }\n",
      "cookie_Pmf=Cookie(hypo_names_list,bowl_mixes)"
     ],
     "language": "python",
     "metadata": {},
     "outputs": [],
     "prompt_number": 48
    },
    {
     "cell_type": "code",
     "collapsed": false,
     "input": [
      "cookie_Pmf.update_by_likelihood('vanilla')"
     ],
     "language": "python",
     "metadata": {},
     "outputs": [],
     "prompt_number": 49
    },
    {
     "cell_type": "code",
     "collapsed": false,
     "input": [
      "for hypo, prob in cookie_Pmf.Items():\n",
      "    print hypo, prob"
     ],
     "language": "python",
     "metadata": {},
     "outputs": [
      {
       "output_type": "stream",
       "stream": "stdout",
       "text": [
        "Bowl_2 0.4\n",
        "Bowl_1 0.6\n"
       ]
      }
     ],
     "prompt_number": 50
    },
    {
     "cell_type": "heading",
     "level": 2,
     "metadata": {},
     "source": [
      "2.4 Monty Hall Class"
     ]
    },
    {
     "cell_type": "code",
     "collapsed": false,
     "input": [
      "class Monthy(Pmf):\n",
      "    def __init__(self, hypo_names):\n",
      "        Pmf.__init__(self)\n",
      "        for hypo in hypo_names:\n",
      "            self.Set(hypo,1)\n",
      "        self.Normalize()\n",
      "    def update(self, data):\n",
      "               for hypo in self.Values():\n",
      "                    like=self.likelihood(data, hypo)\n",
      "                    self.Mult(hypo,like)\n",
      "               self.Normalize()\n",
      "    def likelihood(self, data, hypo):\n",
      "        if hypo== data:\n",
      "            return 0\n",
      "        elif hypo== 'A':\n",
      "            return 0.5\n",
      "        else:\n",
      "            return 1\n",
      "            \n",
      "        "
     ],
     "language": "python",
     "metadata": {},
     "outputs": [],
     "prompt_number": 55
    },
    {
     "cell_type": "code",
     "collapsed": false,
     "input": [
      "monty=Monthy(list(['A','B','C']))\n",
      "data='B'\n",
      "monty.update(data)"
     ],
     "language": "python",
     "metadata": {},
     "outputs": [],
     "prompt_number": 59
    },
    {
     "cell_type": "code",
     "collapsed": false,
     "input": [
      "for hypo, prob in monty.Items():\n",
      "    print hypo, prob"
     ],
     "language": "python",
     "metadata": {},
     "outputs": [
      {
       "output_type": "stream",
       "stream": "stdout",
       "text": [
        "A 0.333333333333\n",
        "C 0.666666666667\n",
        "B 0.0\n"
       ]
      }
     ],
     "prompt_number": 62
    },
    {
     "cell_type": "heading",
     "level": 2,
     "metadata": {},
     "source": [
      "2.5  with Suite object"
     ]
    },
    {
     "cell_type": "code",
     "collapsed": false,
     "input": [
      "from thinkbayes import Suite"
     ],
     "language": "python",
     "metadata": {},
     "outputs": [],
     "prompt_number": 63
    },
    {
     "cell_type": "code",
     "collapsed": false,
     "input": [
      "class MontyWithSiute(Suite):\n",
      "    def Likelihood(self, data, hypo):\n",
      "        if hypo== data:\n",
      "            return 0\n",
      "        elif hypo== 'A':\n",
      "            return 0.5\n",
      "        else:\n",
      "            return 1\n",
      "        "
     ],
     "language": "python",
     "metadata": {},
     "outputs": [],
     "prompt_number": 69
    },
    {
     "cell_type": "code",
     "collapsed": false,
     "input": [
      "monty_suite=MontyWithSiute(list(['A','B','C']))\n",
      "monty_suite.Update(data)\n",
      "monty_suite.Print()"
     ],
     "language": "python",
     "metadata": {},
     "outputs": [
      {
       "output_type": "stream",
       "stream": "stdout",
       "text": [
        "A 0.333333333333\n",
        "B 0.0\n",
        "C 0.666666666667\n"
       ]
      }
     ],
     "prompt_number": 72
    },
    {
     "cell_type": "heading",
     "level": 2,
     "metadata": {},
     "source": [
      "2.6 M&M porblem"
     ]
    },
    {
     "cell_type": "code",
     "collapsed": false,
     "input": [
      "class M_and_M_suite(Suite):\n",
      "    mix94=dict(brown=30,\n",
      "           yellow=20,\n",
      "           red=20,\n",
      "           green=10,\n",
      "           orange=10,\n",
      "               tan=10)\n",
      "\n",
      "    mix96=dict(blue=24,\n",
      "               green=20,\n",
      "               yellow=14,\n",
      "               red=13,\n",
      "               orange=16,\n",
      "               brown=13)\n",
      "\n",
      "    hypoA={'bag1':mix94, 'bag2':mix95}\n",
      "    hypoB={'bag1':mix96, 'bag2':mix94}\n",
      "    \n",
      "    hypotheses={'A':hypoA,'B':hypoB}\n",
      "    \n",
      "    def Likelihood(self, data, hypo):\n",
      "        bag, color=data\n",
      "        mix=self.hypotheses[hypo][bag]\n",
      "        like=mix[color]\n",
      "        return like"
     ],
     "language": "python",
     "metadata": {},
     "outputs": [],
     "prompt_number": 89
    },
    {
     "cell_type": "code",
     "collapsed": false,
     "input": [
      "mms=M_and_M_suite('AB')\n",
      "mms.Update(('bag1', 'yellow'))\n",
      "mms.Update(('bag2', 'green'))\n",
      "mms.Print()"
     ],
     "language": "python",
     "metadata": {},
     "outputs": [
      {
       "output_type": "stream",
       "stream": "stdout",
       "text": [
        "A 0.740740740741\n",
        "B 0.259259259259\n"
       ]
      }
     ],
     "prompt_number": 91
    },
    {
     "cell_type": "code",
     "collapsed": false,
     "input": [],
     "language": "python",
     "metadata": {},
     "outputs": [],
     "prompt_number": 90
    },
    {
     "cell_type": "code",
     "collapsed": false,
     "input": [],
     "language": "python",
     "metadata": {},
     "outputs": []
    }
   ],
   "metadata": {}
  }
 ]
}